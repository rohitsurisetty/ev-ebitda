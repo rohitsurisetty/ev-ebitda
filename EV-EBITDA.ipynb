{
 "cells": [
  {
   "cell_type": "markdown",
   "id": "bd796211-f151-4125-b013-72d5a5ff91fd",
   "metadata": {},
   "source": [
    "**Estimating the stock price of \"Coal India\" for the financial year 2022-23 using EV/EBITDA model**"
   ]
  },
  {
   "cell_type": "code",
   "execution_count": 1,
   "id": "6c7b93fb-1e18-4fca-b3ae-6e92c3b73548",
   "metadata": {},
   "outputs": [],
   "source": [
    "EV = [112148.27,80131.73,85206.741,45679.94,175491.99] \n",
    "#Enterprise values of Coal India in crores for the last 5 years(2022,2021,2020,2019,2018) as per annual reports"
   ]
  },
  {
   "cell_type": "code",
   "execution_count": 2,
   "id": "80339915-76f6-4183-ae92-69e04513c7b4",
   "metadata": {},
   "outputs": [],
   "source": [
    "EBITDA = [11374.06389,7697.572526,11360.89867,10610.33795,9074.042916]\n",
    "#EBITDA (Earnings before interest, tax, depreciation and ammortisation) of Coal India in crores for the last 5 years as per annual reports\n"
   ]
  },
  {
   "cell_type": "code",
   "execution_count": 3,
   "id": "675465f5-0ddb-4fdf-a334-be024963ee81",
   "metadata": {},
   "outputs": [],
   "source": [
    "ratio = []\n",
    "for i in range(0, len(EV)):\n",
    "    ratio.append(EV[i] / EBITDA[i]) \n",
    "#We store the EV/EBITDA ratio for each respective year in the list \"ratio\""
   ]
  },
  {
   "cell_type": "code",
   "execution_count": 4,
   "id": "a4249865-4b41-4dce-8b5f-428017c876fd",
   "metadata": {},
   "outputs": [
    {
     "data": {
      "text/plain": [
       "[9.860000003921202,\n",
       " 10.410000000563814,\n",
       " 7.500000085820675,\n",
       " 4.305229504965957,\n",
       " 19.34000000050253]"
      ]
     },
     "execution_count": 4,
     "metadata": {},
     "output_type": "execute_result"
    }
   ],
   "source": [
    "ratio"
   ]
  },
  {
   "cell_type": "code",
   "execution_count": 5,
   "id": "bd7e5855-0b3e-4b03-a08e-e4ac4aa04747",
   "metadata": {},
   "outputs": [],
   "source": [
    "growthinEBITDA = []\n",
    "for i in range(0,len(EBITDA)-1):\n",
    "    growthinEBITDA.append(100*((EBITDA[i]-EBITDA[i+1])/EBITDA[i+1]))"
   ]
  },
  {
   "cell_type": "code",
   "execution_count": 6,
   "id": "054f6bc1-a9e3-4217-98ba-c14956bbbb62",
   "metadata": {},
   "outputs": [
    {
     "data": {
      "text/plain": [
       "[47.76169827022685, -32.245038446417205, 7.073862524803004, 16.930656469467362]"
      ]
     },
     "execution_count": 6,
     "metadata": {},
     "output_type": "execute_result"
    }
   ],
   "source": [
    "growthinEBITDA"
   ]
  },
  {
   "cell_type": "code",
   "execution_count": 7,
   "id": "4b288ac5-f9b3-4199-afe2-186fa554aed3",
   "metadata": {},
   "outputs": [],
   "source": [
    "avggrowth = sum(growthinEBITDA) / len(growthinEBITDA)\n",
    "#Average growth in EBITDA over the last 5 years"
   ]
  },
  {
   "cell_type": "code",
   "execution_count": 8,
   "id": "891074e3-1aaa-46a6-97bb-2ce31c887590",
   "metadata": {},
   "outputs": [
    {
     "data": {
      "text/plain": [
       "9.880294704520004"
      ]
     },
     "execution_count": 8,
     "metadata": {},
     "output_type": "execute_result"
    }
   ],
   "source": [
    "avggrowth"
   ]
  },
  {
   "cell_type": "code",
   "execution_count": 9,
   "id": "c452b5f6-046c-45ec-9772-9f55664ef32b",
   "metadata": {},
   "outputs": [],
   "source": [
    "expEBITDA = EBITDA[0]*(1+(avggrowth/100))\n",
    "#expEBITDA is the expected EBITDA for the next year while EBITDA[0] is the EBITDA of the most recent year"
   ]
  },
  {
   "cell_type": "code",
   "execution_count": 10,
   "id": "5c29e939-c19e-46be-ad89-1e1151d7ded9",
   "metadata": {},
   "outputs": [
    {
     "data": {
      "text/plain": [
       "12497.854922212391"
      ]
     },
     "execution_count": 10,
     "metadata": {},
     "output_type": "execute_result"
    }
   ],
   "source": [
    "expEBITDA #In crores"
   ]
  },
  {
   "cell_type": "code",
   "execution_count": 11,
   "id": "793d84aa-2a0e-4255-818b-7d864c339d6b",
   "metadata": {},
   "outputs": [],
   "source": [
    "ForEV = ratio[0]*expEBITDA\n",
    "#ForEV is the forcasted EV of next year assuming same EV/EBITDA ratio and expected EBITDA"
   ]
  },
  {
   "cell_type": "code",
   "execution_count": 12,
   "id": "fc3d872d-83a9-45be-89a1-bde292ff65aa",
   "metadata": {},
   "outputs": [
    {
     "data": {
      "text/plain": [
       "123228.84958202079"
      ]
     },
     "execution_count": 12,
     "metadata": {},
     "output_type": "execute_result"
    }
   ],
   "source": [
    "ForEV"
   ]
  },
  {
   "cell_type": "code",
   "execution_count": 13,
   "id": "453626c1-1411-4a04-afb3-ebac187fddd8",
   "metadata": {},
   "outputs": [],
   "source": [
    "noshares = 616.2728327\n",
    "#noshares is the Number of shares of Coal India in crores as per the annual report dated Mar'22"
   ]
  },
  {
   "cell_type": "code",
   "execution_count": 14,
   "id": "b70596ee-82fa-4cdf-809e-5e1f5dd41083",
   "metadata": {},
   "outputs": [],
   "source": [
    "Targetprice = ForEV / noshares\n",
    "#Targetprice is the Target price of Coal India estimated for the financial year 2022-23 as of March'2022"
   ]
  },
  {
   "cell_type": "code",
   "execution_count": 15,
   "id": "32f4fc63-aad6-4f9c-a53f-579b04aca436",
   "metadata": {},
   "outputs": [
    {
     "data": {
      "text/plain": [
       "199.95827017415886"
      ]
     },
     "execution_count": 15,
     "metadata": {},
     "output_type": "execute_result"
    }
   ],
   "source": [
    "Targetprice"
   ]
  }
 ],
 "metadata": {
  "kernelspec": {
   "display_name": "Python 3 (ipykernel)",
   "language": "python",
   "name": "python3"
  },
  "language_info": {
   "codemirror_mode": {
    "name": "ipython",
    "version": 3
   },
   "file_extension": ".py",
   "mimetype": "text/x-python",
   "name": "python",
   "nbconvert_exporter": "python",
   "pygments_lexer": "ipython3",
   "version": "3.11.0"
  }
 },
 "nbformat": 4,
 "nbformat_minor": 5
}
